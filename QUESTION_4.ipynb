{
 "cells": [
  {
   "cell_type": "code",
   "execution_count": 4,
   "metadata": {},
   "outputs": [],
   "source": [
    "from datetime import datetime\n",
    "from time import sleep\n",
    "class CacheItem(object):\n",
    "      def __init__(self, key, item):\n",
    "        self.key = key\n",
    "        self.item = item\n",
    "        self.timestamp = datetime.now()\n"
   ]
  },
  {
   "cell_type": "code",
   "execution_count": 2,
   "metadata": {},
   "outputs": [],
   "source": [
    "class Cache(object):\n",
    "    def __init__(self, length, delta=None):\n",
    "        self.length = length\n",
    "        self.delta = delta\n",
    "        self.hash = {}\n",
    "        self.item_list = []\n",
    "\n",
    "    def insertItem(self, item):\n",
    "        if item.key in self.hash:\n",
    "            item_index = self.item_list.index(item)\n",
    "            self.item_list[:] = self.item_list[:item_index] + self.item_list[item_index+1:]\n",
    "            self.item_list.insert(0, item)\n",
    "        else:\n",
    "            if len(self.item_list) > self.length:\n",
    "                self.removeItem(self.item_list[-1])\n",
    "\n",
    "            self.hash[item.key] = item\n",
    "            self.item_list.insert(0, item)\n",
    "\n",
    "    def removeItem(self, item):\n",
    "        del self.hash[item.key]\n",
    "        del self.item_list[self.item_list.index(item)]\n",
    "\n",
    "    def validateItem(self):\n",
    "        def _outdated_items():\n",
    "            now = datetime.now()\n",
    "            for item in self.item_list:\n",
    "                time_delta = now - item.timestamp\n",
    "                if time_delta.seconds > self.delta:\n",
    "                    yield item\n",
    "        map(lambda x: self.removeItem(x), _outdated_items())"
   ]
  },
  {
   "cell_type": "code",
   "execution_count": 5,
   "metadata": {},
   "outputs": [
    {
     "name": "stdout",
     "output_type": "stream",
     "text": [
      "Initial cache items.\n",
      "index: 0 key: 3 item: three timestamp: 2020-07-02 20:31:13.193505\n",
      "index: 1 key: 2 item: two timestamp: 2020-07-02 20:31:13.193505\n",
      "index: 2 key: 1 item: one timestamp: 2020-07-02 20:31:13.193505\n",
      "####################\n",
      "Insert a existing item: 1.\n",
      "index: 0 key: 1 item: one timestamp: 2020-07-02 20:31:13.193505\n",
      "index: 1 key: 3 item: three timestamp: 2020-07-02 20:31:13.193505\n",
      "index: 2 key: 2 item: two timestamp: 2020-07-02 20:31:13.193505\n",
      "####################\n",
      "Insert another existing item: 2.\n",
      "index: 0 key: 2 item: two timestamp: 2020-07-02 20:31:13.193505\n",
      "index: 1 key: 1 item: one timestamp: 2020-07-02 20:31:13.193505\n",
      "index: 2 key: 3 item: three timestamp: 2020-07-02 20:31:13.193505\n",
      "####################\n",
      "Validate items after a period of time\n",
      "index: 0 key: 2 item: two timestamp: 2020-07-02 20:31:13.193505\n",
      "index: 1 key: 1 item: one timestamp: 2020-07-02 20:31:13.193505\n",
      "index: 2 key: 3 item: three timestamp: 2020-07-02 20:31:13.193505\n",
      "####################\n"
     ]
    }
   ],
   "source": [
    "def print_cache(cache):\n",
    "    for i, item in enumerate(cache.item_list):\n",
    "        print (\"index: {0} \"\"key: {1} \"\"item: {2} \"\"timestamp: {3}\".format(i,item.key,item.item,item.timestamp))\n",
    "\n",
    "one = CacheItem(1, 'one')\n",
    "two = CacheItem(2, 'two')\n",
    "three = CacheItem(3, 'three')\n",
    "\n",
    "print(\"Initial cache items.\")\n",
    "cache = Cache(length=3, delta=5)\n",
    "cache.insertItem(one)\n",
    "cache.insertItem(two)\n",
    "cache.insertItem(three)\n",
    "print_cache(cache)\n",
    "print(\"#\" * 20)\n",
    "\n",
    "print( \"Insert a existing item: {0}.\".format(one.key))\n",
    "cache.insertItem(one)\n",
    "print_cache(cache)\n",
    "print (\"#\" * 20)\n",
    "\n",
    "print(\"Insert another existing item: {0}.\".format(two.key))\n",
    "cache.insertItem(two)\n",
    "print_cache(cache)\n",
    "print(\"#\" * 20)\n",
    "\n",
    "print(\"Validate items after a period of time\")\n",
    "sleep(6)\n",
    "cache.validateItem()\n",
    "print_cache(cache)\n",
    "print(\"#\" * 20)"
   ]
  },
  {
   "cell_type": "code",
   "execution_count": null,
   "metadata": {},
   "outputs": [],
   "source": []
  }
 ],
 "metadata": {
  "kernelspec": {
   "display_name": "Python 3",
   "language": "python",
   "name": "python3"
  },
  "language_info": {
   "codemirror_mode": {
    "name": "ipython",
    "version": 3
   },
   "file_extension": ".py",
   "mimetype": "text/x-python",
   "name": "python",
   "nbconvert_exporter": "python",
   "pygments_lexer": "ipython3",
   "version": "3.8.1"
  }
 },
 "nbformat": 4,
 "nbformat_minor": 4
}
