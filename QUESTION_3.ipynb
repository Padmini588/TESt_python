{
 "cells": [
  {
   "cell_type": "code",
   "execution_count": 5,
   "metadata": {},
   "outputs": [],
   "source": [
    "import json\n",
    "\n",
    "def get_inputs():\n",
    "    d={}\n",
    "    d['Employee_name']= str(input(\"Enter employee's name:\"))\n",
    "    d['phone_number'] = int(input(\"Enter their phone number :\"))\n",
    "    d['Email_id'] = str(input(\"emailid :\"))\n",
    "    return(d)"
   ]
  },
  {
   "cell_type": "code",
   "execution_count": 6,
   "metadata": {},
   "outputs": [],
   "source": [
    "out=[]"
   ]
  },
  {
   "cell_type": "code",
   "execution_count": 7,
   "metadata": {},
   "outputs": [
    {
     "name": "stdout",
     "output_type": "stream",
     "text": [
      "Do you want to add another input (y/n)? y\n",
      "Enter employee's name:padmini\n",
      "Enter their phone number :83798972\n",
      "emailid :padmini495@gmail.com\n",
      "Do you want to add another input (y/n)? y\n",
      "Enter employee's name:minein\n",
      "Enter their phone number :86227979\n",
      "emailid :nnkahihkjndk@gmail.com\n",
      "Do you want to add another input (y/n)? y\n",
      "Enter employee's name:ghjfuygkl\n",
      "Enter their phone number :798054564538\n",
      "emailid :fghutyft@gmsail.com\n",
      "Do you want to add another input (y/n)? n\n"
     ]
    }
   ],
   "source": [
    "while True:\n",
    "    exit = input('Do you want to add another input (y/n)? ')\n",
    "    if exit.lower() == 'n':\n",
    "        break\n",
    "    else:\n",
    "        out.append(get_inputs())        "
   ]
  },
  {
   "cell_type": "code",
   "execution_count": 8,
   "metadata": {},
   "outputs": [],
   "source": [
    "with open('names.json','w') as f:\n",
    "    json.dump(out, f, indent=2)"
   ]
  },
  {
   "cell_type": "code",
   "execution_count": 26,
   "metadata": {},
   "outputs": [],
   "source": [
    "#data=[]\n",
    "with open('names.json')as f:\n",
    "     data=json.load(f)"
   ]
  },
  {
   "cell_type": "code",
   "execution_count": 27,
   "metadata": {},
   "outputs": [
    {
     "name": "stdout",
     "output_type": "stream",
     "text": [
      "[{'Employee name': 'padmini', 'phone_number': 83798972, 'Email_id': 'padmini495@gmail.com'}, {'Employee name': 'minein', 'phone_number': 86227979, 'Email_id': 'nnkahihkjndk@gmail.com'}, {'Employee name': 'ghjfuygkl', 'phone_number': 798054564538, 'Email_id': 'fghutyft@gmsail.com'}]\n"
     ]
    }
   ],
   "source": [
    "print(data)"
   ]
  },
  {
   "cell_type": "code",
   "execution_count": null,
   "metadata": {},
   "outputs": [],
   "source": []
  }
 ],
 "metadata": {
  "kernelspec": {
   "display_name": "Python 3",
   "language": "python",
   "name": "python3"
  },
  "language_info": {
   "codemirror_mode": {
    "name": "ipython",
    "version": 3
   },
   "file_extension": ".py",
   "mimetype": "text/x-python",
   "name": "python",
   "nbconvert_exporter": "python",
   "pygments_lexer": "ipython3",
   "version": "3.8.1"
  }
 },
 "nbformat": 4,
 "nbformat_minor": 4
}
