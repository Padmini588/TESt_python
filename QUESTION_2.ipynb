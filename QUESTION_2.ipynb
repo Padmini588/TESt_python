{
 "cells": [
  {
   "cell_type": "code",
   "execution_count": null,
   "metadata": {},
   "outputs": [],
   "source": [
    "list_num=[]\n",
    "list_num = [int(item) for item in input(\"Enter the list of numbers : \").split()] "
   ]
  },
  {
   "cell_type": "code",
   "execution_count": 2,
   "metadata": {},
   "outputs": [
    {
     "name": "stdout",
     "output_type": "stream",
     "text": [
      " Enter the difference in pairs:2\n"
     ]
    }
   ],
   "source": [
    "k=int(input(\" Enter the difference in pairs:\"))"
   ]
  },
  {
   "cell_type": "code",
   "execution_count": 3,
   "metadata": {},
   "outputs": [],
   "source": [
    "def count_display_pairs(arr, k): \n",
    "    count = 0\n",
    "    n=len(arr) \n",
    "    pairlist=[]\n",
    "    for i in range(0,n): \n",
    "        for j in range(i+1, n) : \n",
    "            if arr[i] - arr[j] == k or arr[j] - arr[i] == k: \n",
    "                count += 1\n",
    "                pairs={arr[i],arr[j]}\n",
    "                pairlist.append(pairs)\n",
    "    return count ,pairlist"
   ]
  },
  {
   "cell_type": "code",
   "execution_count": 4,
   "metadata": {},
   "outputs": [
    {
     "name": "stdout",
     "output_type": "stream",
     "text": [
      "Count and the pairs with the given difference is  (1, [{3, 5}])\n"
     ]
    }
   ],
   "source": [
    "print (\"Count and the pairs with the given difference is \",count_display_pairs(list_num,k)) "
   ]
  },
  {
   "cell_type": "code",
   "execution_count": null,
   "metadata": {},
   "outputs": [],
   "source": [
    "while True\n",
    "try:\n",
    "     x = int(input(\"Please enter a number: \"))\n",
    "     break \n",
    "except ValueError:\n",
    "print(\"Oops!  That was no valid number.  Try again...\")"
   ]
  },
  {
   "cell_type": "code",
   "execution_count": null,
   "metadata": {},
   "outputs": [],
   "source": []
  }
 ],
 "metadata": {
  "kernelspec": {
   "display_name": "Python 3",
   "language": "python",
   "name": "python3"
  }
 },
 "nbformat": 4,
 "nbformat_minor": 4
}
